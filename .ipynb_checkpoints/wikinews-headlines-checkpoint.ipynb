{
 "cells": [
  {
   "cell_type": "markdown",
   "id": "c76fe551-4afc-4127-a4e6-fe700f211c73",
   "metadata": {},
   "source": [
    "# Daily Wikinews Headline Emailer\n",
    "## *Daniel Brinkley*\n",
    "\n",
    "Uses the [WikiMedia API](https://api.wikimedia.org/wiki/Getting_featured_content_from_Wikipedia_with_Python) to retrieve English Wikinews's 'Latest news' section of the Main Page. Formats and forwards an HTML page of the response using SendGrid's mail client"
   ]
  },
  {
   "cell_type": "code",
   "execution_count": 1,
   "id": "6f28b0cc-8ece-4270-ba10-11cfb0b75592",
   "metadata": {},
   "outputs": [
    {
     "data": {
      "text/plain": [
       "True"
      ]
     },
     "execution_count": 1,
     "metadata": {},
     "output_type": "execute_result"
    }
   ],
   "source": [
    "# load libraries and environment (api keys)\n",
    "import datetime\n",
    "from dotenv import load_dotenv\n",
    "import json\n",
    "import requests\n",
    "import os\n",
    "from sendgrid import SendGridAPIClient\n",
    "from sendgrid.helpers.mail import Mail\n",
    "import re\n",
    "\n",
    "load_dotenv()"
   ]
  },
  {
   "cell_type": "code",
   "execution_count": 3,
   "id": "b01ef940-bf4d-45cf-a4fd-ca0927f4a9ad",
   "metadata": {},
   "outputs": [
    {
     "name": "stdout",
     "output_type": "stream",
     "text": [
      "{'mostread': {'date': '2025-09-28Z', 'articles': [{'views': 173, 'rank': 19, 'view_history': [{'date': '2025-09-24Z', 'views': 328}, {'date': '2025-09-25Z', 'views': 322}, {'date': '2025-09-26Z', 'views': 235}, {'date': '2025-09-27Z', 'views': 211}, {'date': '2025-09-28Z', 'views': 173}], 'type': 'standard', 'title': 'Country_music_songwriter_Brett_James_dies_in_North_Carolina_plane_crash', 'displaytitle': '<span class=\"mw-page-title-main\">Country music songwriter Brett James dies in North Carolina plane crash</span>', 'namespace': {'id': 0, 'text': ''}, 'wikibase_item': 'Q136368330', 'titles': {'canonical': 'Country_music_songwriter_Brett_James_dies_in_North_Carolina_plane_crash', 'normalized': 'Country music songwriter Brett James dies in North Carolina plane crash', 'display': '<span class=\"mw-page-title-main\">Country music songwriter Brett James dies in North Carolina plane crash</span>'}, 'pageid': 3022513, 'thumbnail': {'source': 'https://upload.wikimedia.org/wikipedia/commons/thumb/9/9c/Blue_lightbar_%28fire_and_rescue%29.jpg/330px-Blue_lightbar_%28fire_and_rescue%29.jpg', 'width': 320, 'height': 213}, 'originalimage': {'source': 'https://upload.wikimedia.org/wikipedia/commons/9/9c/Blue_lightbar_%28fire_and_rescue%29.jpg', 'width': 1630, 'height': 1086}, 'lang': 'en', 'dir': 'ltr', 'revision': '4880661', 'tid': '3bb18ee9-9a14-11f0-9502-7f8e6f62e814', 'timestamp': '2025-09-25T13:33:34Z', 'description': 'Wikinews article', 'description_source': 'central', 'content_urls': {'desktop': {'page': 'https://en.wikinews.org/wiki/Country_music_songwriter_Brett_James_dies_in_North_Carolina_plane_crash', 'revisions': 'https://en.wikinews.org/wiki/Country_music_songwriter_Brett_James_dies_in_North_Carolina_plane_crash?action=history', 'edit': 'https://en.wikinews.org/wiki/Country_music_songwriter_Brett_James_dies_in_North_Carolina_plane_crash?action=edit', 'talk': 'https://en.wikinews.org/wiki/Talk:Country_music_songwriter_Brett_James_dies_in_North_Carolina_plane_crash'}, 'mobile': {'page': 'https://en.wikinews.org/wiki/Country_music_songwriter_Brett_James_dies_in_North_Carolina_plane_crash', 'revisions': 'https://en.wikinews.org/wiki/Special:History/Country_music_songwriter_Brett_James_dies_in_North_Carolina_plane_crash', 'edit': 'https://en.wikinews.org/wiki/Country_music_songwriter_Brett_James_dies_in_North_Carolina_plane_crash?action=edit', 'talk': 'https://en.wikinews.org/wiki/Talk:Country_music_songwriter_Brett_James_dies_in_North_Carolina_plane_crash'}}, 'extract': 'On September 18, American country music singer, songwriter, and record producer Brett James died in a plane crash in a wooded area in Franklin, North Carolina. His death was verified by the North Carolina State Highway Patrol. Two other people died onboard the plane. There were no survivors.', 'extract_html': '<p>On September 18, American country music singer, songwriter, and record producer <span class=\"interwiki-link-foreign\"><span class=\"extiw\">Brett James</span></span> died in a plane crash in a wooded area in <span class=\"interwiki-link-foreign\"><span class=\"extiw\">Franklin, North Carolina</span></span>. His death was verified by the <span class=\"interwiki-link-foreign\"><span class=\"extiw\">North Carolina State Highway Patrol</span></span>. Two other people died onboard the plane. There were no survivors.</p>', 'normalizedtitle': 'Country music songwriter Brett James dies in North Carolina plane crash'}, {'views': 105, 'rank': 36, 'view_history': [{'date': '2025-09-24Z', 'views': 143}, {'date': '2025-09-25Z', 'views': 143}, {'date': '2025-09-26Z', 'views': 110}, {'date': '2025-09-27Z', 'views': 123}, {'date': '2025-09-28Z', 'views': 105}], 'type': 'standard', 'title': \"Brazil's_supreme_court_sentences_former_president_Jair_Bolsonaro_to_27_years_in_prison\", 'displaytitle': '<span class=\"mw-page-title-main\">Brazil&#039;s supreme court sentences former president Jair Bolsonaro to 27 years in prison</span>', 'namespace': {'id': 0, 'text': ''}, 'wikibase_item': 'Q136311560', 'titles': {'canonical': \"Brazil's_supreme_court_sentences_former_president_Jair_Bolsonaro_to_27_years_in_prison\", 'normalized': \"Brazil's supreme court sentences former president Jair Bolsonaro to 27 years in prison\", 'display': '<span class=\"mw-page-title-main\">Brazil&#039;s supreme court sentences former president Jair Bolsonaro to 27 years in prison</span>'}, 'pageid': 3022229, 'thumbnail': {'source': 'https://upload.wikimedia.org/wikipedia/commons/thumb/4/48/Sess%C3%A3o_Especial_-_Pastor_Gedelti_Victalino_Teixeira_Gueiros_-_54660618037.jpg/330px-Sess%C3%A3o_Especial_-_Pastor_Gedelti_Victalino_Teixeira_Gueiros_-_54660618037.jpg', 'width': 320, 'height': 480}, 'originalimage': {'source': 'https://upload.wikimedia.org/wikipedia/commons/4/48/Sess%C3%A3o_Especial_-_Pastor_Gedelti_Victalino_Teixeira_Gueiros_-_54660618037.jpg', 'width': 2595, 'height': 3892}, 'lang': 'en', 'dir': 'ltr', 'revision': '4879415', 'tid': 'e0c7e51c-94ab-11f0-819c-01cd621f61e5', 'timestamp': '2025-09-18T16:23:58Z', 'description': 'Wikinews article', 'description_source': 'central', 'content_urls': {'desktop': {'page': \"https://en.wikinews.org/wiki/Brazil's_supreme_court_sentences_former_president_Jair_Bolsonaro_to_27_years_in_prison\", 'revisions': \"https://en.wikinews.org/wiki/Brazil's_supreme_court_sentences_former_president_Jair_Bolsonaro_to_27_years_in_prison?action=history\", 'edit': \"https://en.wikinews.org/wiki/Brazil's_supreme_court_sentences_former_president_Jair_Bolsonaro_to_27_years_in_prison?action=edit\", 'talk': \"https://en.wikinews.org/wiki/Talk:Brazil's_supreme_court_sentences_former_president_Jair_Bolsonaro_to_27_years_in_prison\"}, 'mobile': {'page': \"https://en.wikinews.org/wiki/Brazil's_supreme_court_sentences_former_president_Jair_Bolsonaro_to_27_years_in_prison\", 'revisions': \"https://en.wikinews.org/wiki/Special:History/Brazil's_supreme_court_sentences_former_president_Jair_Bolsonaro_to_27_years_in_prison\", 'edit': \"https://en.wikinews.org/wiki/Brazil's_supreme_court_sentences_former_president_Jair_Bolsonaro_to_27_years_in_prison?action=edit\", 'talk': \"https://en.wikinews.org/wiki/Talk:Brazil's_supreme_court_sentences_former_president_Jair_Bolsonaro_to_27_years_in_prison\"}}, 'extract': \"The ruling was announced on Thursday. Brazil's Supreme Federal Court, formed by a panel of five justices, sentenced former president Jair Bolsonaro to 27 years and three months in prison, on five charges related to an alleged plot to overturn the result of the 2022 election.\", 'extract_html': '<p>The ruling was announced on Thursday. Brazil\\'s <span class=\"extiw\">Supreme Federal Court</span>, formed by a panel of five justices, sentenced former president Jair Bolsonaro to 27 years and three months in prison, on five charges related to an alleged plot to overturn the result of the <span class=\"extiw\">2022 election</span>.</p>', 'normalizedtitle': \"Brazil's supreme court sentences former president Jair Bolsonaro to 27 years in prison\"}, {'views': 103, 'rank': 37, 'view_history': [{'date': '2025-09-24Z', 'views': 185}, {'date': '2025-09-25Z', 'views': 143}, {'date': '2025-09-26Z', 'views': 138}, {'date': '2025-09-27Z', 'views': 108}, {'date': '2025-09-28Z', 'views': 103}], 'type': 'standard', 'title': 'New_York_judge_rules_terrorism_charges_legally_insufficient_in_Mangione_case', 'displaytitle': '<span class=\"mw-page-title-main\">New York judge rules terrorism charges legally insufficient in Mangione case</span>', 'namespace': {'id': 0, 'text': ''}, 'wikibase_item': 'Q136326009', 'titles': {'canonical': 'New_York_judge_rules_terrorism_charges_legally_insufficient_in_Mangione_case', 'normalized': 'New York judge rules terrorism charges legally insufficient in Mangione case', 'display': '<span class=\"mw-page-title-main\">New York judge rules terrorism charges legally insufficient in Mangione case</span>'}, 'pageid': 3022282, 'thumbnail': {'source': 'https://upload.wikimedia.org/wikipedia/commons/thumb/0/0e/Scale_of_justice_2.svg/320px-Scale_of_justice_2.svg.png', 'width': 320, 'height': 326}, 'originalimage': {'source': 'https://upload.wikimedia.org/wikipedia/commons/thumb/0/0e/Scale_of_justice_2.svg/204px-Scale_of_justice_2.svg.png', 'width': 204, 'height': 208}, 'lang': 'en', 'dir': 'ltr', 'revision': '4879758', 'tid': 'f248e324-95b4-11f0-ad7b-337d730c2fa0', 'timestamp': '2025-09-20T00:01:24Z', 'description': 'Wikinews article', 'description_source': 'central', 'content_urls': {'desktop': {'page': 'https://en.wikinews.org/wiki/New_York_judge_rules_terrorism_charges_legally_insufficient_in_Mangione_case', 'revisions': 'https://en.wikinews.org/wiki/New_York_judge_rules_terrorism_charges_legally_insufficient_in_Mangione_case?action=history', 'edit': 'https://en.wikinews.org/wiki/New_York_judge_rules_terrorism_charges_legally_insufficient_in_Mangione_case?action=edit', 'talk': 'https://en.wikinews.org/wiki/Talk:New_York_judge_rules_terrorism_charges_legally_insufficient_in_Mangione_case'}, 'mobile': {'page': 'https://en.wikinews.org/wiki/New_York_judge_rules_terrorism_charges_legally_insufficient_in_Mangione_case', 'revisions': 'https://en.wikinews.org/wiki/Special:History/New_York_judge_rules_terrorism_charges_legally_insufficient_in_Mangione_case', 'edit': 'https://en.wikinews.org/wiki/New_York_judge_rules_terrorism_charges_legally_insufficient_in_Mangione_case?action=edit', 'talk': 'https://en.wikinews.org/wiki/Talk:New_York_judge_rules_terrorism_charges_legally_insufficient_in_Mangione_case'}}, 'extract': 'On Tuesday, New York Judge Gregory Carro dismissed two of the charges related to terrorism against Luigi Mangione, the suspect in the killing of Brian Thompson. Carro stated prosecutors had not provided sufficient evidence to support the terrorism-related charges. He ruled that the second-degree murder charge against Mangione would proceed.', 'extract_html': '<p>On Tuesday, New York Judge Gregory Carro dismissed two of the charges related to terrorism against Luigi Mangione, the suspect in the <span class=\"interwiki-link-foreign\"><span class=\"extiw\">killing of Brian Thompson</span></span>. Carro stated prosecutors had not provided sufficient evidence to support the terrorism-related charges. He ruled that the <span class=\"interwiki-link-foreign\"><span class=\"extiw\">second-degree murder</span></span> charge against Mangione would proceed.</p>', 'normalizedtitle': 'New York judge rules terrorism charges legally insufficient in Mangione case'}, {'views': 94, 'rank': 39, 'view_history': [{'date': '2025-09-24Z', 'views': 114}, {'date': '2025-09-25Z', 'views': 100}, {'date': '2025-09-26Z', 'views': 92}, {'date': '2025-09-27Z', 'views': 96}, {'date': '2025-09-28Z', 'views': 94}], 'type': 'standard', 'title': 'Shark_attack_kills_Australian_surfer_off_Long_Reef_Beach,_Sydney', 'displaytitle': '<span class=\"mw-page-title-main\">Shark attack kills Australian surfer off Long Reef Beach, Sydney</span>', 'namespace': {'id': 0, 'text': ''}, 'wikibase_item': 'Q136208755', 'titles': {'canonical': 'Shark_attack_kills_Australian_surfer_off_Long_Reef_Beach,_Sydney', 'normalized': 'Shark attack kills Australian surfer off Long Reef Beach, Sydney', 'display': '<span class=\"mw-page-title-main\">Shark attack kills Australian surfer off Long Reef Beach, Sydney</span>'}, 'pageid': 3021691, 'thumbnail': {'source': 'https://upload.wikimedia.org/wikipedia/commons/thumb/7/7d/Australia_%28orthographic_projection%29.svg/330px-Australia_%28orthographic_projection%29.svg.png', 'width': 320, 'height': 320}, 'originalimage': {'source': 'https://upload.wikimedia.org/wikipedia/commons/thumb/7/7d/Australia_%28orthographic_projection%29.svg/541px-Australia_%28orthographic_projection%29.svg.png', 'width': 541, 'height': 541}, 'lang': 'en', 'dir': 'ltr', 'revision': '4879759', 'tid': '02f9593c-95b5-11f0-a25e-9701b7e15c06', 'timestamp': '2025-09-20T00:01:52Z', 'description': 'Wikinews article', 'description_source': 'central', 'content_urls': {'desktop': {'page': 'https://en.wikinews.org/wiki/Shark_attack_kills_Australian_surfer_off_Long_Reef_Beach%2C_Sydney', 'revisions': 'https://en.wikinews.org/wiki/Shark_attack_kills_Australian_surfer_off_Long_Reef_Beach%2C_Sydney?action=history', 'edit': 'https://en.wikinews.org/wiki/Shark_attack_kills_Australian_surfer_off_Long_Reef_Beach%2C_Sydney?action=edit', 'talk': 'https://en.wikinews.org/wiki/Talk:Shark_attack_kills_Australian_surfer_off_Long_Reef_Beach%2C_Sydney'}, 'mobile': {'page': 'https://en.wikinews.org/wiki/Shark_attack_kills_Australian_surfer_off_Long_Reef_Beach%2C_Sydney', 'revisions': 'https://en.wikinews.org/wiki/Special:History/Shark_attack_kills_Australian_surfer_off_Long_Reef_Beach%2C_Sydney', 'edit': 'https://en.wikinews.org/wiki/Shark_attack_kills_Australian_surfer_off_Long_Reef_Beach%2C_Sydney?action=edit', 'talk': 'https://en.wikinews.org/wiki/Talk:Shark_attack_kills_Australian_surfer_off_Long_Reef_Beach%2C_Sydney'}}, 'extract': 'Around 10:00 a.m. local time Saturday, an Australian man died after being attacked by a shark while surfing at Long Reef in the Northern Beaches region of Sydney.', 'extract_html': '<p>Around 10:00 a.m. local time Saturday, an Australian man died after being attacked by a shark while surfing at <span class=\"interwiki-link-foreign\"><span class=\"extiw\">Long Reef</span></span> in the <span class=\"interwiki-link-foreign\"><span class=\"extiw\">Northern Beaches</span></span> region of <span class=\"interwiki-link-foreign\"><span class=\"extiw\">Sydney</span></span>.</p>', 'normalizedtitle': 'Shark attack kills Australian surfer off Long Reef Beach, Sydney'}, {'views': 77, 'rank': 45, 'view_history': [{'date': '2025-09-24Z', 'views': 3}, {'date': '2025-09-25Z', 'views': 12}, {'date': '2025-09-26Z', 'views': 11}, {'date': '2025-09-27Z', 'views': 11}, {'date': '2025-09-28Z', 'views': 77}], 'type': 'standard', 'title': 'Colleges_offering_admission_to_displaced_New_Orleans_students', 'displaytitle': '<span class=\"mw-page-title-main\">Colleges offering admission to displaced New Orleans students</span>', 'namespace': {'id': 0, 'text': ''}, 'wikibase_item': 'Q17659336', 'titles': {'canonical': 'Colleges_offering_admission_to_displaced_New_Orleans_students', 'normalized': 'Colleges offering admission to displaced New Orleans students', 'display': '<span class=\"mw-page-title-main\">Colleges offering admission to displaced New Orleans students</span>'}, 'pageid': 20444, 'thumbnail': {'source': 'https://upload.wikimedia.org/wikipedia/commons/thumb/d/d8/Superdome_shelter.jpg/330px-Superdome_shelter.jpg', 'width': 320, 'height': 427}, 'originalimage': {'source': 'https://upload.wikimedia.org/wikipedia/commons/d/d8/Superdome_shelter.jpg', 'width': 1200, 'height': 1600}, 'lang': 'en', 'dir': 'ltr', 'revision': '4810868', 'tid': '87b6ef9d-bc90-11ef-87a1-eb1c107e5f6a', 'timestamp': '2024-12-17T16:04:01Z', 'description': 'Wikinews article', 'description_source': 'central', 'content_urls': {'desktop': {'page': 'https://en.wikinews.org/wiki/Colleges_offering_admission_to_displaced_New_Orleans_students', 'revisions': 'https://en.wikinews.org/wiki/Colleges_offering_admission_to_displaced_New_Orleans_students?action=history', 'edit': 'https://en.wikinews.org/wiki/Colleges_offering_admission_to_displaced_New_Orleans_students?action=edit', 'talk': 'https://en.wikinews.org/wiki/Talk:Colleges_offering_admission_to_displaced_New_Orleans_students'}, 'mobile': {'page': 'https://en.wikinews.org/wiki/Colleges_offering_admission_to_displaced_New_Orleans_students', 'revisions': 'https://en.wikinews.org/wiki/Special:History/Colleges_offering_admission_to_displaced_New_Orleans_students', 'edit': 'https://en.wikinews.org/wiki/Colleges_offering_admission_to_displaced_New_Orleans_students?action=edit', 'talk': 'https://en.wikinews.org/wiki/Talk:Colleges_offering_admission_to_displaced_New_Orleans_students'}}, 'extract': 'Due to the damage by Hurricane Katrina and subsequent flooding, a number of colleges and universities in the New Orleans metropolitan area will not be able to hold classes for the fall 2005 semester. It is estimated that 75,000 to 100,000 students have been displaced.. In response, institutions across the United States and Canada are offering late registration for displaced students so that their academic progress is not unduly delayed. Some are offering free or reduced admission to displaced students. At some universities, especially state universities, this offer is limited to residents of the area.', 'extract_html': '<p>Due to the damage by <span class=\"extiw\">Hurricane Katrina</span> and subsequent flooding, a number of colleges and universities in the New Orleans metropolitan area will not be able to hold classes for the fall 2005 semester. It is estimated that 75,000 to 100,000 students have been displaced.. In response, institutions across the United States and Canada are offering late registration for displaced students so that their academic progress is not unduly delayed. Some are offering free or reduced admission to displaced students. At some universities, especially state universities, this offer is limited to residents of the area.</p>', 'normalizedtitle': 'Colleges offering admission to displaced New Orleans students'}]}, 'image': {'title': 'File:San Carlo al Corso in Rome (4).jpg', 'thumbnail': {'source': 'https://upload.wikimedia.org/wikipedia/commons/thumb/e/e6/San_Carlo_al_Corso_in_Rome_%284%29.jpg/960px-San_Carlo_al_Corso_in_Rome_%284%29.jpg', 'width': 640, 'height': 406}, 'image': {'source': 'https://upload.wikimedia.org/wikipedia/commons/e/e6/San_Carlo_al_Corso_in_Rome_%284%29.jpg', 'width': 5489, 'height': 3480}, 'file_page': 'https://commons.wikimedia.org/wiki/File:San_Carlo_al_Corso_in_Rome_(4).jpg', 'artist': {'html': '<bdi><a href=\"https://en.wikipedia.org/wiki/en:Giacinto_Brandi\" class=\"extiw\" title=\"w:en:Giacinto Brandi\"><span title=\"Italian painter (1621-1691)\">Giacinto Brandi</span></a></bdi>', 'text': 'Giacinto Brandi'}, 'credit': {'html': 'Photographed by <a href=\"//commons.wikimedia.org/wiki/User:Tournasol7\" title=\"User:Tournasol7\">Krzysztof Golik</a> in the <a href=\"https://en.wikipedia.org/wiki/San_Carlo_al_Corso\" class=\"extiw\" title=\"w:San Carlo al Corso\">Santi Ambrogio e Carlo al Corso basilica</a> (the central vault) in <a href=\"https://en.wikipedia.org/wiki/Rome\" class=\"extiw\" title=\"w:Rome\">Rome</a>, Lazio, Italy', 'text': 'Photographed by Krzysztof Golik in the Santi Ambrogio e Carlo al Corso basilica (the central vault) in Rome, Lazio, Italy'}, 'license': {'type': 'CC BY-SA 4.0', 'code': 'cc-by-sa-4.0', 'url': 'https://creativecommons.org/licenses/by-sa/4.0'}, 'description': {'html': '<i>Fall of the Rebel Angels</i> is a fresco by <a rel=\"mw:WikiLink/Interwiki\" href=\"https://en.wikipedia.org/wiki/Giacinto%20Brandi\" title=\"w:Giacinto Brandi\" class=\"extiw\">Giacinto Brandi</a> adorning the central vault of <a rel=\"mw:WikiLink/Interwiki\" href=\"https://en.wikipedia.org/wiki/Sant\\'Ambrogio%20e%20Carlo%20al%20Corso\" title=\"w:Sant\\'Ambrogio e Carlo al Corso\" class=\"extiw\">Sant\\'Ambrogio e Carlo al Corso</a> <a rel=\"mw:WikiLink/Interwiki\" href=\"https://en.wikipedia.org/wiki/Basilicas%20in%20the%20Catholic%20Church\" title=\"en:Basilicas in the Catholic Church\" class=\"extiw\">basilica</a> in <a rel=\"mw:WikiLink/Interwiki\" href=\"https://en.wikipedia.org/wiki/Rome\" title=\"w:Rome\" class=\"extiw\">Rome</a>. It depicts <a rel=\"mw:WikiLink/Interwiki\" href=\"https://en.wikipedia.org/wiki/St.%20Michael\" title=\"en:St. Michael\" class=\"extiw\">Michael the Archangel\\'s</a> <a rel=\"mw:WikiLink/Interwiki\" href=\"https://en.wikipedia.org/wiki/war%20in%20heaven\" title=\"en:war in heaven\" class=\"extiw\">victory in battle</a> over <a rel=\"mw:WikiLink/Interwiki\" href=\"https://en.wikipedia.org/wiki/fallen%20angel\" title=\"en:fallen angel\" class=\"extiw\">fallen angels</a>. Today is <a rel=\"mw:WikiLink/Interwiki\" href=\"https://en.wikipedia.org/wiki/Michaelmas\" title=\"en:Michaelmas\" class=\"extiw\">Michaelmas</a>.', 'text': \"Fall of the Rebel Angels is a fresco by Giacinto Brandi adorning the central vault of Sant'Ambrogio e Carlo al Corso basilica in Rome. It depicts Michael the Archangel's victory in battle over fallen angels. Today is Michaelmas.\", 'lang': 'en'}, 'wb_entity_id': 'M137867972', 'structured': {'captions': {'zh-hant': '叛逆天使的墮落', 'en': 'Ceiling of Sant\\'Ambrogio e Carlo al Corso in Rome, showing \"Fall of the Rebel Angels\" by Giacinto Brandi'}}}}\n"
     ]
    },
    {
     "data": {
      "text/plain": [
       "'\\nfor story in response[\\'news\\']:\\n  headline = story[\\'story\\']\\n  # Replace relative URLs with absolute URLs\\n  headline = headline.replace(\\'\"./\\', \\'\"https://\\' + language_code + \\'.wikinews.org/wiki/\\')\\n  headlines.append(headline)\\n'"
      ]
     },
     "execution_count": 3,
     "metadata": {},
     "output_type": "execute_result"
    }
   ],
   "source": [
    "# boiler plate borrowed from WikiMedia's tutorial\n",
    "today = datetime.datetime.now()\n",
    "date = today.strftime('%Y/%m/%d')\n",
    "\n",
    "# Choose your language, and get today's featured content.\n",
    "language_code = 'en' # English\n",
    "headers = {\n",
    "  'Authorization': f'Bearer {os.environ[\"WIKIMEDIA_API_KEY\"]}',\n",
    "  'User-Agent': 'email-day (brushnit.online@gmail.com)'\n",
    "}\n",
    "\n",
    "base_url = 'https://api.wikimedia.org/feed/v1/wikinews/'\n",
    "url = base_url + language_code + '/featured/' + date\n",
    "response = requests.get(url, headers=headers)\n",
    "\n",
    "headlines = []\n",
    "\n",
    "response = json.loads(response.text)\n",
    "print(response)\n",
    "\n",
    "'''\n",
    "for story in response['news']:\n",
    "  headline = story['story']\n",
    "  # Replace relative URLs with absolute URLs\n",
    "  headline = headline.replace('\"./', '\"https://' + language_code + '.wikinews.org/wiki/')\n",
    "  headlines.append(headline)\n",
    "'''"
   ]
  },
  {
   "cell_type": "code",
   "execution_count": null,
   "id": "fcb9cc31-a8eb-4d96-94d7-dcc3d0f765d9",
   "metadata": {},
   "outputs": [],
   "source": [
    "# function to format HTML response; can be modified to\n",
    "def create_headlines_html(headlines_list, date):\n",
    "    html_output = f\"\"\"\n",
    "<!DOCTYPE html>\n",
    "<html lang=\"en\">\n",
    "<head>\n",
    "    <meta charset=\"UTF-8\">\n",
    "    <meta name=\"viewport\" content=\"width=device-width, initial-scale=1.0\">\n",
    "    <title>Wiki News for {date}</title>\n",
    "</head>\n",
    "<body style=\"margin: 0; padding: 0; font-family: Arial, sans-serif; background-color: #f9f9f9;\">\n",
    "    <table width=\"100%\" border=\"0\" cellspacing=\"0\" cellpadding=\"0\" style=\"background-color: #f9f9f9;\">\n",
    "        <tr>\n",
    "            <td align=\"center\">\n",
    "                <table width=\"600\" border=\"0\" cellspacing=\"0\" cellpadding=\"20\" style=\"max-width: 600px; width: 100%; background-color: #ffffff; border-radius: 8px; margin-top: 20px; margin-bottom: 20px;\">\n",
    "                    <tr>\n",
    "                        <td>\n",
    "                            <h1 style=\"font-size: 24px; color: #333333; margin-top: 0;\">Latest Headlines</h1>\n",
    "                            <ul style=\"list-style-type: none; padding: 0; margin: 0;\">\n",
    "    \"\"\"\n",
    "\n",
    "    for index, headline in enumerate(headlines_list):\n",
    "        cleaned_headline = re.sub(r'<!--.*?-->', '', headline)\n",
    "\n",
    "        def clean_anchor_tag(match):\n",
    "            tag = match.group(0)\n",
    "            href_match = re.search(r'href=\"([^\"]+)\"', tag)\n",
    "            if href_match:\n",
    "                href = href_match.group(1)\n",
    "                content = re.sub(r'<.*?>', '', tag)\n",
    "                return f'<a href=\"{href}\" style=\"color: #0066cc; text-decoration: none;\">{content}</a>'\n",
    "            return tag \n",
    "\n",
    "        anchors = re.findall(r'<a[^>]*>.*?</a>', cleaned_headline)\n",
    "        for anchor in anchors:\n",
    "            cleaned_anchor = clean_anchor_tag(re.match(r'.*', anchor)) \n",
    "            cleaned_headline = cleaned_headline.replace(anchor, cleaned_anchor, 1)\n",
    "\n",
    "        border_style = \"border-bottom: 1px solid #eeeeee;\" if index < len(headlines_list) - 1 else \"\"\n",
    "        html_output += f\"\"\"\n",
    "                                <li style=\"padding: 15px 0; font-size: 16px; color: #555555; {border_style}\">\n",
    "                                    {cleaned_headline.strip()}\n",
    "                                </li>\n",
    "        \"\"\"\n",
    "    \n",
    "    html_output += \"\"\"\n",
    "                            </ul>\n",
    "\n",
    "                            <!-- More Current Events Link -->\n",
    "                            <p style=\"text-align: center; margin-top: 20px;\">\n",
    "                                <a href=\"https://en.wikipedia.org/wiki/Portal:Current_events\" style=\"color: #0066cc; text-decoration: none; font-size: 16px;\">More Current Events</a>\n",
    "                            </p>\n",
    "\n",
    "                        </td>\n",
    "                    </tr>\n",
    "                </table>\n",
    "            </td>\n",
    "        </tr>\n",
    "    </table>\n",
    "\n",
    "</body>\n",
    "</html>\n",
    "    \"\"\"\n",
    "    return html_output"
   ]
  },
  {
   "cell_type": "code",
   "execution_count": null,
   "id": "17a042ac-91d2-411b-840c-c1c2b62b85c0",
   "metadata": {},
   "outputs": [],
   "source": [
    "message = Mail(\n",
    "    from_email=\"dabcrc@umsystem.edu\",\n",
    "    to_emails=\"dabcrc@umsystem.edu\",\n",
    "    subject=f'Wiki News for {date}',\n",
    "    html_content=create_headlines_html(headlines, date),\n",
    ")\n",
    "try:\n",
    "    sg = SendGridAPIClient(os.environ[\"SENDGRID_API_KEY\"])\n",
    "    response = sg.send(message)\n",
    "    print(response.status_code)\n",
    "    print(response.body)\n",
    "    print(response.headers)\n",
    "except Exception as e:\n",
    "    print(str(e))"
   ]
  }
 ],
 "metadata": {
  "kernelspec": {
   "display_name": "Python 3 (ipykernel)",
   "language": "python",
   "name": "python3"
  },
  "language_info": {
   "codemirror_mode": {
    "name": "ipython",
    "version": 3
   },
   "file_extension": ".py",
   "mimetype": "text/x-python",
   "name": "python",
   "nbconvert_exporter": "python",
   "pygments_lexer": "ipython3",
   "version": "3.12.5"
  }
 },
 "nbformat": 4,
 "nbformat_minor": 5
}
